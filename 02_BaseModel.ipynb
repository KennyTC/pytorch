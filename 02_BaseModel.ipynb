{
  "nbformat": 4,
  "nbformat_minor": 0,
  "metadata": {
    "colab": {
      "name": "02_CNN.ipynb",
      "provenance": [],
      "collapsed_sections": [],
      "mount_file_id": "1QOV3Z3M2Pvj2Ny_H8nuB_nJ4CB9oLmVo",
      "authorship_tag": "ABX9TyNCIaiiePWBta/Ywrr6ou/q",
      "include_colab_link": true
    },
    "kernelspec": {
      "name": "python3",
      "display_name": "Python 3"
    },
    "language_info": {
      "name": "python"
    }
  },
  "cells": [
    {
      "cell_type": "markdown",
      "metadata": {
        "id": "view-in-github",
        "colab_type": "text"
      },
      "source": [
        "<a href=\"https://colab.research.google.com/github/KennyThinh/pytorch/blob/main/02_BaseModel.ipynb\" target=\"_parent\"><img src=\"https://colab.research.google.com/assets/colab-badge.svg\" alt=\"Open In Colab\"/></a>"
      ]
    },
    {
      "cell_type": "code",
      "metadata": {
        "id": "7W2OxoVy8bp0"
      },
      "source": [
        "import torch\n",
        "import torch.nn as nn\n",
        "import torch.optim as optim \n",
        "import torch.nn.functional as f #function without parameter relu, tank\n",
        "from torch.utils.data import DataLoader\n",
        "import torchvision.datasets as datasets\n",
        "import torchvision.transforms as transforms #transformation to perform on dataset"
      ],
      "execution_count": null,
      "outputs": []
    },
    {
      "cell_type": "code",
      "metadata": {
        "colab": {
          "base_uri": "https://localhost:8080/"
        },
        "id": "uE90cSka8q9x",
        "outputId": "c572c660-915e-4241-ebb3-d5ca5563fe7f"
      },
      "source": [
        "# create fully connected network\n",
        "class NN(nn.Module):\n",
        "  def __init__(self, input_size, num_classes):\n",
        "    super(NN, self).__init__()\n",
        "    self.fc1 = nn.Linear(input_size, 50)\n",
        "    self.fc2 = nn.Linear(50, num_classes)\n",
        "  \n",
        "  def forward(self, x):\n",
        "    x = f.relu(self.fc1(x))\n",
        "    x = self.fc2(x)\n",
        "    return x\n",
        "\n",
        "#test\n",
        "model = NN(768, 10)\n",
        "x = torch.rand(64,768)\n",
        "print(model(x).shape)"
      ],
      "execution_count": null,
      "outputs": [
        {
          "output_type": "stream",
          "text": [
            "torch.Size([64, 10])\n"
          ],
          "name": "stdout"
        }
      ]
    },
    {
      "cell_type": "code",
      "metadata": {
        "id": "IrM9QJ37Dq7n"
      },
      "source": [
        "# set device\n",
        "device = torch.device(\"cuda\" if torch.cuda.is_available() else \"cpu\")"
      ],
      "execution_count": null,
      "outputs": []
    },
    {
      "cell_type": "code",
      "metadata": {
        "id": "EZD8yny_Eu7w"
      },
      "source": [
        "# hyper parameter\n",
        "input_size = 784\n",
        "num_classes = 10\n",
        "num_epochs = 1\n",
        "batch_size = 64\n",
        "learning_rate = 0.001"
      ],
      "execution_count": 59,
      "outputs": []
    },
    {
      "cell_type": "code",
      "metadata": {
        "colab": {
          "base_uri": "https://localhost:8080/"
        },
        "id": "uOa3abWlJz0P",
        "outputId": "c930b68c-70eb-4eca-c236-fcc3fb5d7abc"
      },
      "source": [
        "!wget www.di.ens.fr/~lelarge/MNIST.tar.gz -P dataset/\n",
        "!tar -zxvf dataset/MNIST.tar.gz -C dataset/\n",
        "\n",
        "train_dataset = datasets.MNIST(root=\"dataset/\", train=True, transform=transforms.ToTensor(), download=True)\n",
        "train_loader = DataLoader(train_dataset, batch_size=batch_size, shuffle=True)\n",
        "test_dataset = datasets.MNIST(root=\"dataset/\", train = False, transform=transforms.ToTensor(), download=False)\n",
        "test_loader = DataLoader(test_dataset, batch_size= batch_size, shuffle = True)"
      ],
      "execution_count": 51,
      "outputs": [
        {
          "output_type": "stream",
          "text": [
            "--2021-03-19 02:27:33--  http://www.di.ens.fr/~lelarge/MNIST.tar.gz\n",
            "Resolving www.di.ens.fr (www.di.ens.fr)... 129.199.99.14\n",
            "Connecting to www.di.ens.fr (www.di.ens.fr)|129.199.99.14|:80... connected.\n",
            "HTTP request sent, awaiting response... 302 Found\n",
            "Location: https://www.di.ens.fr/~lelarge/MNIST.tar.gz [following]\n",
            "--2021-03-19 02:27:33--  https://www.di.ens.fr/~lelarge/MNIST.tar.gz\n",
            "Connecting to www.di.ens.fr (www.di.ens.fr)|129.199.99.14|:443... connected.\n",
            "HTTP request sent, awaiting response... 200 OK\n",
            "Length: unspecified [application/x-gzip]\n",
            "Saving to: ‘dataset/MNIST.tar.gz’\n",
            "\n",
            "MNIST.tar.gz            [      <=>           ]  33.20M  30.5MB/s    in 1.1s    \n",
            "\n",
            "2021-03-19 02:27:34 (30.5 MB/s) - ‘dataset/MNIST.tar.gz’ saved [34813078]\n",
            "\n",
            "MNIST/\n",
            "MNIST/raw/\n",
            "MNIST/raw/train-labels-idx1-ubyte\n",
            "MNIST/raw/t10k-labels-idx1-ubyte.gz\n",
            "MNIST/raw/t10k-labels-idx1-ubyte\n",
            "MNIST/raw/t10k-images-idx3-ubyte.gz\n",
            "MNIST/raw/train-images-idx3-ubyte\n",
            "MNIST/raw/train-labels-idx1-ubyte.gz\n",
            "MNIST/raw/t10k-images-idx3-ubyte\n",
            "MNIST/raw/train-images-idx3-ubyte.gz\n",
            "MNIST/processed/\n",
            "MNIST/processed/training.pt\n",
            "MNIST/processed/test.pt\n"
          ],
          "name": "stdout"
        }
      ]
    },
    {
      "cell_type": "code",
      "metadata": {
        "id": "mSVHQ3JhHNNN"
      },
      "source": [
        "#Init the network\n",
        "model = NN(input_size, num_classes).to(device)"
      ],
      "execution_count": 60,
      "outputs": []
    },
    {
      "cell_type": "code",
      "metadata": {
        "id": "GMtGjBgaUe54"
      },
      "source": [
        "#loss and optimizer\n",
        "criterion = nn.CrossEntropyLoss()\n",
        "optimizer = optim.Adam(model.parameters(), lr=learning_rate)"
      ],
      "execution_count": 61,
      "outputs": []
    },
    {
      "cell_type": "code",
      "metadata": {
        "id": "OV2nxZG2Ugs2"
      },
      "source": [
        "#train \n",
        "for epoch in range(num_epochs):\n",
        "  for batch_idx, (data, target) in enumerate(train_loader):\n",
        "    data = data.to(device)\n",
        "    target = target.to(device)\n",
        "    \n",
        "    data = data.reshape(data.shape[0], -1)        \n",
        "    \n",
        "    #forward\n",
        "    scores = model(data)\n",
        "    loss = criterion(scores, target)\n",
        "\n",
        "    #backward\n",
        "    optimizer.zero_grad() #to clear out gradients of last time\n",
        "    loss.backward()\n",
        "\n",
        "    #gradient to update params\n",
        "    optimizer.step() "
      ],
      "execution_count": 63,
      "outputs": []
    },
    {
      "cell_type": "code",
      "metadata": {
        "colab": {
          "base_uri": "https://localhost:8080/"
        },
        "id": "EUW9if7UUk0_",
        "outputId": "9eebbc56-75e3-4a87-c649-7091e1bdd4fc"
      },
      "source": [
        "#check acc on train and test\n",
        "def check_accuracy(loader, model):\n",
        "  num_correct = 0\n",
        "  num_samples = 0\n",
        "  model.eval() #inform that we are going to evaluate\n",
        "  with torch.no_grad():\n",
        "    for x, y in loader:\n",
        "      x = x.to(device)\n",
        "      y = y.to(device)\n",
        "\n",
        "      x = x.reshape(x.shape[0], -1)\n",
        "      scores = model(x) #dim (64,10)      \n",
        "      _, predictions = torch.max(scores, dim=1) #find the max among 10 outputs, so the dim is 1\n",
        "      #predictions ([64])\n",
        "      num_correct += (predictions==y).sum()\n",
        "      num_samples += predictions.size(0) #each time is 64 examples\n",
        "    print(f'Got {num_correct}/{num_samples} with accuracy {float(num_correct)/float(num_samples)*100:.2f}')\n",
        "\n",
        "check_accuracy(train_loader, model)\n",
        "check_accuracy(test_loader, model)\n"
      ],
      "execution_count": 81,
      "outputs": [
        {
          "output_type": "stream",
          "text": [
            "Got 57158/60000 with accuracy 95.26\n",
            "Got 9489/10000 with accuracy 94.89\n"
          ],
          "name": "stdout"
        }
      ]
    },
    {
      "cell_type": "code",
      "metadata": {
        "id": "ZFNqOp8Sb19f"
      },
      "source": [
        ""
      ],
      "execution_count": null,
      "outputs": []
    }
  ]
}