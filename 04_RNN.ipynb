{
  "nbformat": 4,
  "nbformat_minor": 0,
  "metadata": {
    "colab": {
      "name": "04_RNN.ipynb",
      "provenance": [],
      "collapsed_sections": [],
      "authorship_tag": "ABX9TyNS4CSW3u3fpyMw4LzSzHdk",
      "include_colab_link": true
    },
    "kernelspec": {
      "name": "python3",
      "display_name": "Python 3"
    },
    "language_info": {
      "name": "python"
    }
  },
  "cells": [
    {
      "cell_type": "markdown",
      "metadata": {
        "id": "view-in-github",
        "colab_type": "text"
      },
      "source": [
        "<a href=\"https://colab.research.google.com/github/KennyThinh/pytorch/blob/main/04_RNN.ipynb\" target=\"_parent\"><img src=\"https://colab.research.google.com/assets/colab-badge.svg\" alt=\"Open In Colab\"/></a>"
      ]
    },
    {
      "cell_type": "code",
      "metadata": {
        "id": "KUG8XFnQmTkl"
      },
      "source": [
        "import torch\n",
        "import torch.nn as nn\n",
        "import torch.optim as optim\n",
        "import torch.nn.functional as F\n",
        "from torch.utils.data import DataLoader\n",
        "import torchvision.datasets as datasets\n",
        "import torchvision.transforms as transforms"
      ],
      "execution_count": 76,
      "outputs": []
    },
    {
      "cell_type": "code",
      "metadata": {
        "id": "PCI0wXFlm_Cv"
      },
      "source": [
        "device = torch.device(\"cuda\" if torch.cuda.is_available() else \"cpu\")"
      ],
      "execution_count": 77,
      "outputs": []
    },
    {
      "cell_type": "code",
      "metadata": {
        "colab": {
          "base_uri": "https://localhost:8080/"
        },
        "id": "6e2SKBo7sO0p",
        "outputId": "f420e0ec-94b3-4722-f8a1-0080e56846d2"
      },
      "source": [
        "# Load the Drive helper and mount\n",
        "from google.colab import drive\n",
        "\n",
        "# This will prompt for authorization.\n",
        "drive.mount('/content/drive')"
      ],
      "execution_count": 78,
      "outputs": [
        {
          "output_type": "stream",
          "text": [
            "Drive already mounted at /content/drive; to attempt to forcibly remount, call drive.mount(\"/content/drive\", force_remount=True).\n"
          ],
          "name": "stdout"
        }
      ]
    },
    {
      "cell_type": "code",
      "metadata": {
        "id": "XrQopEM4spUw"
      },
      "source": [
        "# !mkdir /dataset\n",
        "# !wget www.di.ens.fr/~lelarge/MNIST.tar.gz -P /dataset\n",
        "# !tar -zxvf /dataset/MNIST.tar.gz -C /dataset/"
      ],
      "execution_count": 59,
      "outputs": []
    },
    {
      "cell_type": "code",
      "metadata": {
        "id": "_d-FS2u_xc24"
      },
      "source": [
        "#input N*1*28*28 --> 28 time series, each series has 28 features\n",
        "class RNN(nn.Module):\n",
        "  def __init__(self, input_size, hidden_size, num_layers, num_classes):\n",
        "    super(RNN, self).__init__()\n",
        "    self.hidden_size = hidden_size\n",
        "    self.num_layers = num_layers\n",
        "    self.rnn = nn.RNN(input_size, hidden_size = hidden_size, num_layers= num_layers, batch_first = True)\n",
        "    self.fc = nn.Linear(hidden_size*sequence_length,num_classes)\n",
        "    \n",
        "\n",
        "  def forward(self, x):# x shape N*sequence_length*input_size\n",
        "    h0 = torch.zeros(self.num_layers,x.shape[0], self.hidden_size).to(device)\n",
        "    out, _ = self.rnn(x, h0) #because we set batch_first = True, then output will be (batch, seq, hidden_size)\n",
        "    out = out.reshape(out.shape[0],-1)\n",
        "    out = self.fc(out)\n",
        "    return out\n",
        "\n",
        "class GRU(nn.Module):\n",
        "  def __init__(self, input_size, hidden_size, num_layers, num_classes):\n",
        "    super(GRU, self).__init__()\n",
        "    self.hidden_size = hidden_size\n",
        "    self.num_layers = num_layers\n",
        "    self.gru = nn.GRU(input_size, hidden_size = hidden_size, num_layers= num_layers, batch_first = True)\n",
        "    self.fc = nn.Linear(hidden_size,num_classes)\n",
        "    \n",
        "\n",
        "  def forward(self, x):# x shape N*sequence_length*input_size\n",
        "    h0 = torch.zeros(self.num_layers,x.shape[0], self.hidden_size).to(device)\n",
        "    out, _ = self.gru(x, h0) \n",
        "    out = out[:,-1,:] #we want out is (N,hidden_size) so that we can feed to FC\n",
        "    out = self.fc(out)\n",
        "    return out\n",
        "\n",
        "class LSTM(nn.Module):\n",
        "  def __init__(self, input_size, hidden_size, num_layers, num_classes):\n",
        "    super(LSTM, self).__init__()\n",
        "    self.hidden_size = hidden_size\n",
        "    self.num_layers = num_layers\n",
        "    self.lstm = nn.LSTM(input_size, hidden_size = hidden_size, num_layers= num_layers, batch_first = True)\n",
        "    self.fc = nn.Linear(hidden_size,num_classes)    \n",
        "\n",
        "  def forward(self, x):# x shape N*sequence_length*input_size\n",
        "    h0 = torch.zeros(self.num_layers,x.shape[0], self.hidden_size).to(device)\n",
        "    c0 = torch.zeros(self.num_layers,x.shape[0], self.hidden_size).to(device)\n",
        "    out, _ = self.lstm(x, (h0,c0))\n",
        "    out = out[:,-1,:] #we want out is (N,hidden_size) so that we can feed to FC\n",
        "    out = self.fc(out)\n",
        "    return out\n"
      ],
      "execution_count": 112,
      "outputs": []
    },
    {
      "cell_type": "code",
      "metadata": {
        "id": "FdwAFNWtnJpJ"
      },
      "source": [
        "sequence_length= 28 \n",
        "input_size = 28 #features\n",
        "num_layers = 2 #no of RNN cell\n",
        "hidden_size = 128 #size of hidden state\n",
        "num_classes = 10\n",
        "num_epochs = 2\n",
        "batch_size = 64\n",
        "learning_rate = 0.001"
      ],
      "execution_count": 113,
      "outputs": []
    },
    {
      "cell_type": "code",
      "metadata": {
        "id": "tjdovU-mnRmd"
      },
      "source": [
        "train_dataset = datasets.MNIST(root=\"/dataset/\",train=True, transform=transforms.ToTensor(), download=False)\n",
        "train_loader = DataLoader(train_dataset,batch_size=batch_size, shuffle=True)\n",
        "test_dataset = datasets.MNIST(root=\"/dataset/\", train=True, transform=transforms.ToTensor(), download=False)\n",
        "test_loader = DataLoader(test_dataset, batch_size=batch_size, shuffle=True)"
      ],
      "execution_count": 114,
      "outputs": []
    },
    {
      "cell_type": "code",
      "metadata": {
        "id": "Z_ed3bnJws94"
      },
      "source": [
        "# model = RNN(input_size, hidden_size, num_layers, num_classes).to(device)\n",
        "# model = GRU(input_size, hidden_size, num_layers, num_classes).to(device)\n",
        "model = LSTM(input_size, hidden_size, num_layers, num_classes).to(device)"
      ],
      "execution_count": 115,
      "outputs": []
    },
    {
      "cell_type": "code",
      "metadata": {
        "id": "A-BBH7yLxwGz"
      },
      "source": [
        "#loss and optimizer\n",
        "criterion = nn.CrossEntropyLoss()\n",
        "optimizer = optim.Adam(model.parameters(), lr=learning_rate)\n",
        "#train\n",
        "for epoch in range(num_epochs):\n",
        "  for batch_idx, (data, target) in enumerate(train_loader):\n",
        "    data = data.to(device).squeeze(1) #shape (64, 28, 28)\n",
        "    \n",
        "    target = target.to(device)\n",
        "\n",
        "    #forwad\n",
        "    scores = model(data)\n",
        "    loss = criterion(scores, target)\n",
        "\n",
        "    #backward\n",
        "    optimizer.zero_grad()\n",
        "    loss.backward()\n",
        "\n",
        "    #gradient\n",
        "    optimizer.step()"
      ],
      "execution_count": 116,
      "outputs": []
    },
    {
      "cell_type": "code",
      "metadata": {
        "colab": {
          "base_uri": "https://localhost:8080/"
        },
        "id": "YjEHARa4yr1l",
        "outputId": "49157785-e887-46b5-9c7a-17b6fe5e0676"
      },
      "source": [
        "def check_accuracy(loader, model):\n",
        "  num_correct = 0\n",
        "  num_samples = 0\n",
        "  model.eval()\n",
        "  with torch.no_grad():\n",
        "    for x, y in loader:\n",
        "      x = x.to(device).squeeze(1)\n",
        "      y = y.to(device)\n",
        "      scores = model(x)\n",
        "      _,predictions = torch.max(scores, dim= 1)\n",
        "      num_correct += (predictions==y).sum()\n",
        "      num_samples += predictions.size(0)\n",
        "    print(f'Got {num_correct}/{num_samples} with accuracy {float(num_correct)/float(num_samples)*100:.2f}')\n",
        "check_accuracy(train_loader, model)\n",
        "check_accuracy(test_loader, model)"
      ],
      "execution_count": 117,
      "outputs": [
        {
          "output_type": "stream",
          "text": [
            "Got 58767/60000 with accuracy 97.95\n",
            "Got 58767/60000 with accuracy 97.95\n"
          ],
          "name": "stdout"
        }
      ]
    },
    {
      "cell_type": "markdown",
      "metadata": {
        "id": "s6k3lfLl0AAL"
      },
      "source": [
        ""
      ]
    },
    {
      "cell_type": "code",
      "metadata": {
        "id": "ySoZ6I0lx91G"
      },
      "source": [
        "# RNN: \n",
        "# Got 58541/60000 with accuracy 97.57\n",
        "# Got 58541/60000 with accuracy 97.57\n",
        "\n",
        "# GRU\n",
        "# Got 58597/60000 with accuracy 97.66\n",
        "# Got 58597/60000 with accuracy 97.66\n",
        "\n",
        "#LSTM\n",
        "# Got 58767/60000 with accuracy 97.95\n",
        "# Got 58767/60000 with accuracy 97.95"
      ],
      "execution_count": null,
      "outputs": []
    }
  ]
}