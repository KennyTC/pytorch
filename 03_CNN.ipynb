{
  "nbformat": 4,
  "nbformat_minor": 0,
  "metadata": {
    "colab": {
      "name": "03_CNN.ipynb",
      "provenance": [],
      "collapsed_sections": [],
      "toc_visible": true,
      "mount_file_id": "1QOV3Z3M2Pvj2Ny_H8nuB_nJ4CB9oLmVo",
      "authorship_tag": "ABX9TyNpnGLqThXNZWL2Wwe9aWVT",
      "include_colab_link": true
    },
    "kernelspec": {
      "name": "python3",
      "display_name": "Python 3"
    },
    "language_info": {
      "name": "python"
    }
  },
  "cells": [
    {
      "cell_type": "markdown",
      "metadata": {
        "id": "view-in-github",
        "colab_type": "text"
      },
      "source": [
        "<a href=\"https://colab.research.google.com/github/KennyThinh/pytorch/blob/main/03_CNN.ipynb\" target=\"_parent\"><img src=\"https://colab.research.google.com/assets/colab-badge.svg\" alt=\"Open In Colab\"/></a>"
      ]
    },
    {
      "cell_type": "code",
      "metadata": {
        "id": "7W2OxoVy8bp0"
      },
      "source": [
        "import torch\n",
        "import torch.nn as nn\n",
        "import torch.optim as optim \n",
        "import torch.nn.functional as f #function without parameter relu, tank\n",
        "from torch.utils.data import DataLoader\n",
        "import torchvision.datasets as datasets\n",
        "import torchvision.transforms as transforms #transformation to perform on dataset"
      ],
      "execution_count": 2,
      "outputs": []
    },
    {
      "cell_type": "code",
      "metadata": {
        "colab": {
          "base_uri": "https://localhost:8080/"
        },
        "id": "uE90cSka8q9x",
        "outputId": "aeed13ea-f5a3-4f64-9251-12d24ce560c9"
      },
      "source": [
        "# create fully connected network\n",
        "class CNN(nn.Module):\n",
        "  def __init__(self, in_channels = 1, num_classes=10):\n",
        "    super(CNN, self).__init__()\n",
        "    self.conv1 = nn.Conv2d(in_channels=in_channels, out_channels=8, kernel_size=(3,3), stride=(1,1), padding=(1,1)) #output size = input_size\n",
        "    self.pool1 = nn.MaxPool2d(kernel_size=(2,2), stride=(2,2))\n",
        "    self.conv2 = nn.Conv2d(in_channels=8, out_channels=16, kernel_size=(3,3), stride=(1,1), padding=(1,1))    \n",
        "    self.pool2 = nn.MaxPool2d(kernel_size=(2,2), stride=(2,2))\n",
        "    self.fc = nn.Linear(in_features= 16*7*7, out_features = num_classes, bias=True)\n",
        "  \n",
        "  def forward(self, x):\n",
        "    # print(\"input:\", x.shape)\n",
        "    x = f.relu(self.conv1(x))\n",
        "    # print(\"conv1:\", x.shape)\n",
        "    x = self.pool1(x)\n",
        "    # print(\"pool1:\", x.shape)\n",
        "    x = f.relu(self.conv2(x))\n",
        "    # print(\"conv2:\", x.shape)\n",
        "    x = self.pool2(x)    \n",
        "    # print(\"pool2:\", x.shape)\n",
        "    x = x.reshape(x.shape[0], -1)\n",
        "    # print(\"reshape:\", x.shape)\n",
        "    x = self.fc(x)\n",
        "    # print(\"fc:\", x.shape)\n",
        "    return x\n",
        "\n",
        "#test\n",
        "model = CNN()\n",
        "x = torch.rand(64,1,28,28)\n",
        "print(model(x).shape)\n",
        "\n",
        "# input: torch.Size([64, 1, 28, 28])\n",
        "# conv1: torch.Size([64, 8, 28, 28])\n",
        "# pool1: torch.Size([64, 8, 14, 14])\n",
        "# conv2: torch.Size([64, 8, 14, 14])\n",
        "# pool2: torch.Size([64, 8, 7, 7])\n",
        "# reshape: torch.Size([64, 392])\n",
        "# fc: torch.Size([64, 10])\n",
        "# torch.Size([64, 10])"
      ],
      "execution_count": 29,
      "outputs": [
        {
          "output_type": "stream",
          "text": [
            "torch.Size([64, 10])\n"
          ],
          "name": "stdout"
        }
      ]
    },
    {
      "cell_type": "code",
      "metadata": {
        "id": "IrM9QJ37Dq7n"
      },
      "source": [
        "# set device\n",
        "device = torch.device(\"cuda\" if torch.cuda.is_available() else \"cpu\")"
      ],
      "execution_count": 30,
      "outputs": []
    },
    {
      "cell_type": "code",
      "metadata": {
        "id": "EZD8yny_Eu7w"
      },
      "source": [
        "# hyper parameter\n",
        "# input_size = 784\n",
        "num_classes = 10\n",
        "num_epochs = 1\n",
        "batch_size = 64\n",
        "learning_rate = 0.001"
      ],
      "execution_count": 31,
      "outputs": []
    },
    {
      "cell_type": "code",
      "metadata": {
        "id": "uOa3abWlJz0P"
      },
      "source": [
        "# !wget www.di.ens.fr/~lelarge/MNIST.tar.gz -P dataset/\n",
        "# !tar -zxvf dataset/MNIST.tar.gz -C dataset/\n",
        "\n",
        "train_dataset = datasets.MNIST(root=\"dataset/\", train=True, transform=transforms.ToTensor(), download=True)\n",
        "train_loader = DataLoader(train_dataset, batch_size=batch_size, shuffle=True)\n",
        "test_dataset = datasets.MNIST(root=\"dataset/\", train = False, transform=transforms.ToTensor(), download=False)\n",
        "test_loader = DataLoader(test_dataset, batch_size= batch_size, shuffle = True)"
      ],
      "execution_count": 32,
      "outputs": []
    },
    {
      "cell_type": "code",
      "metadata": {
        "id": "mSVHQ3JhHNNN"
      },
      "source": [
        "\n",
        "#Init the network\n",
        "model = CNN(in_channels=1, num_classes=10).to(device)"
      ],
      "execution_count": 33,
      "outputs": []
    },
    {
      "cell_type": "code",
      "metadata": {
        "id": "GMtGjBgaUe54"
      },
      "source": [
        "#loss and optimizer\n",
        "criterion = nn.CrossEntropyLoss()\n",
        "optimizer = optim.Adam(model.parameters(), lr=learning_rate)"
      ],
      "execution_count": 34,
      "outputs": []
    },
    {
      "cell_type": "code",
      "metadata": {
        "id": "OV2nxZG2Ugs2"
      },
      "source": [
        "#train \n",
        "for epoch in range(num_epochs):\n",
        "  for batch_idx, (data, target) in enumerate(train_loader):\n",
        "    data = data.to(device)\n",
        "    target = target.to(device)\n",
        "    \n",
        "    #forward\n",
        "    scores = model(data)\n",
        "    loss = criterion(scores, target)\n",
        "\n",
        "    #backward\n",
        "    optimizer.zero_grad() #to clear out gradients of last time\n",
        "    loss.backward()\n",
        "\n",
        "    #gradient to update params\n",
        "    optimizer.step() "
      ],
      "execution_count": 35,
      "outputs": []
    },
    {
      "cell_type": "code",
      "metadata": {
        "colab": {
          "base_uri": "https://localhost:8080/"
        },
        "id": "EUW9if7UUk0_",
        "outputId": "1edf18fb-c99f-4909-bfa3-9fa9e4290b95"
      },
      "source": [
        "#check acc on train and test\n",
        "def check_accuracy(loader, model):\n",
        "  num_correct = 0\n",
        "  num_samples = 0\n",
        "  model.eval() #inform that we are going to evaluate\n",
        "  with torch.no_grad():\n",
        "    for x, y in loader:\n",
        "      x = x.to(device)\n",
        "      y = y.to(device)\n",
        "\n",
        "      # x = x.reshape(x.shape[0], -1)\n",
        "      scores = model(x) #dim (64,10)      \n",
        "      _, predictions = torch.max(scores, dim=1) #find the max among 10 outputs, so the dim is 1\n",
        "      #predictions ([64])\n",
        "      num_correct += (predictions==y).sum()\n",
        "      num_samples += predictions.size(0) #each time is 64 examples\n",
        "    print(f'Got {num_correct}/{num_samples} with accuracy {float(num_correct)/float(num_samples)*100:.2f}')\n",
        "\n",
        "check_accuracy(train_loader, model)\n",
        "check_accuracy(test_loader, model)\n"
      ],
      "execution_count": 36,
      "outputs": [
        {
          "output_type": "stream",
          "text": [
            "Got 57338/60000 with accuracy 95.56\n",
            "Got 9585/10000 with accuracy 95.85\n"
          ],
          "name": "stdout"
        }
      ]
    },
    {
      "cell_type": "code",
      "metadata": {
        "id": "ZFNqOp8Sb19f"
      },
      "source": [
        ""
      ],
      "execution_count": null,
      "outputs": []
    }
  ]
}