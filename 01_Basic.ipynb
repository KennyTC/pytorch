{
  "nbformat": 4,
  "nbformat_minor": 0,
  "metadata": {
    "colab": {
      "name": "01_Basic.ipynb",
      "provenance": [],
      "collapsed_sections": [],
      "authorship_tag": "ABX9TyM00wvtGJq0xJRewPZ8l8JF",
      "include_colab_link": true
    },
    "kernelspec": {
      "name": "python3",
      "display_name": "Python 3"
    },
    "accelerator": "GPU"
  },
  "cells": [
    {
      "cell_type": "markdown",
      "metadata": {
        "id": "view-in-github",
        "colab_type": "text"
      },
      "source": [
        "<a href=\"https://colab.research.google.com/github/KennyThinh/pytorch/blob/main/01_Basic.ipynb\" target=\"_parent\"><img src=\"https://colab.research.google.com/assets/colab-badge.svg\" alt=\"Open In Colab\"/></a>"
      ]
    },
    {
      "cell_type": "code",
      "metadata": {
        "id": "FnGdjAinu100",
        "colab": {
          "base_uri": "https://localhost:8080/",
          "height": 35
        },
        "outputId": "9260e46f-d33e-4c42-d2a9-a400b618d3d3"
      },
      "source": [
        "import torch\r\n",
        "torch.__version__"
      ],
      "execution_count": 2,
      "outputs": [
        {
          "output_type": "execute_result",
          "data": {
            "application/vnd.google.colaboratory.intrinsic+json": {
              "type": "string"
            },
            "text/plain": [
              "'1.8.0+cu101'"
            ]
          },
          "metadata": {
            "tags": []
          },
          "execution_count": 2
        }
      ]
    },
    {
      "cell_type": "markdown",
      "metadata": {
        "id": "CUsNqvLwyNgw"
      },
      "source": [
        "1.   Init tensor"
      ]
    },
    {
      "cell_type": "code",
      "metadata": {
        "colab": {
          "base_uri": "https://localhost:8080/"
        },
        "id": "OhLqytf6wipt",
        "outputId": "acce82a9-2dac-4470-ef69-3e8cd98e6ae5"
      },
      "source": [
        "device = \"cuda\" if torch.cuda.is_available() else \"cpu\"\r\n",
        "my_tensor = torch.tensor([[1,2,3],[4,5,6]], dtype = torch.float32, device = device)\r\n",
        "print(my_tensor)\r\n",
        "print(my_tensor.dtype)\r\n",
        "print(my_tensor.device)\r\n",
        "print(my_tensor.shape)"
      ],
      "execution_count": 3,
      "outputs": [
        {
          "output_type": "stream",
          "text": [
            "tensor([[1., 2., 3.],\n",
            "        [4., 5., 6.]], device='cuda:0')\n",
            "torch.float32\n",
            "cuda:0\n",
            "torch.Size([2, 3])\n"
          ],
          "name": "stdout"
        }
      ]
    },
    {
      "cell_type": "code",
      "metadata": {
        "colab": {
          "base_uri": "https://localhost:8080/"
        },
        "id": "byhYQwkrwxri",
        "outputId": "c8e4a2fa-86a6-42f6-fb6c-3f90a86c179a"
      },
      "source": [
        "x = torch.empty(size=(3,3)) # random\r\n",
        "x = torch.zeros((3,3))\r\n",
        "x = torch.ones((3,3))\r\n",
        "x = torch.eye(3,3)\r\n",
        "x = torch.arange(start=0, end =10, step = 1)\r\n",
        "x = torch.linspace(start = 0, end = 1,steps = 10)\r\n",
        "print(x)"
      ],
      "execution_count": 4,
      "outputs": [
        {
          "output_type": "stream",
          "text": [
            "tensor([0.0000, 0.1111, 0.2222, 0.3333, 0.4444, 0.5556, 0.6667, 0.7778, 0.8889,\n",
            "        1.0000])\n"
          ],
          "name": "stdout"
        }
      ]
    },
    {
      "cell_type": "code",
      "metadata": {
        "colab": {
          "base_uri": "https://localhost:8080/"
        },
        "id": "ECnHYI2Xyc6U",
        "outputId": "b2c3c8a7-a5e3-4b98-879e-4b9f00058b24"
      },
      "source": [
        "x = torch.rand(size=(3,3)) # values are uniform distribution\r\n",
        "x = torch.empty(size=(3,3)).uniform_(0,1)\r\n",
        "print(x)\r\n",
        "\r\n",
        "x = torch.empty(size=(2,5)).normal_(mean=0, std=1) #normal distribution\r\n",
        "print(x)"
      ],
      "execution_count": 5,
      "outputs": [
        {
          "output_type": "stream",
          "text": [
            "tensor([[0.9172, 0.4362, 0.8004],\n",
            "        [0.7643, 0.9213, 0.7260],\n",
            "        [0.2112, 0.2593, 0.4131]])\n",
            "tensor([[ 0.6618, -1.0987, -0.8850, -0.9358,  0.3156],\n",
            "        [-2.6305, -0.8108,  0.6399,  0.0691, -0.5711]])\n"
          ],
          "name": "stdout"
        }
      ]
    },
    {
      "cell_type": "code",
      "metadata": {
        "colab": {
          "base_uri": "https://localhost:8080/"
        },
        "id": "RVSXQhBMz_fR",
        "outputId": "040eed83-3aa9-4045-f210-77707545e344"
      },
      "source": [
        "x = torch.diag(torch.ones(3)) # similar to eye but we can use any values on the diag\r\n",
        "print(x)"
      ],
      "execution_count": 6,
      "outputs": [
        {
          "output_type": "stream",
          "text": [
            "tensor([[1., 0., 0.],\n",
            "        [0., 1., 0.],\n",
            "        [0., 0., 1.]])\n"
          ],
          "name": "stdout"
        }
      ]
    },
    {
      "cell_type": "code",
      "metadata": {
        "colab": {
          "base_uri": "https://localhost:8080/"
        },
        "id": "TqeyxTiE0moi",
        "outputId": "9d345a0c-8e03-493a-cfb9-1cbbc92836e2"
      },
      "source": [
        "# initialize and convert tensors\r\n",
        "my_tensor = torch.arange(3) # tensor([0, 1, 2])\r\n",
        "my_tensor.bool() #tensor([False,  True,  True])\r\n",
        "my_tensor.short() # int16\r\n",
        "my_tensor.half() #float16 for 20xx gpu series\r\n",
        "my_tensor.long() # int64 (*)\r\n",
        "my_tensor.float() #float32 (*)\r\n",
        "my_tensor.double() #float64 \r\n",
        "\r\n",
        "# convert btw numpy and tensor\r\n",
        "my_tensor_np = my_tensor.numpy()\r\n",
        "my_tensor_torch = torch.from_numpy(my_tensor_np)\r\n",
        "my_tensor_np, my_tensor_torch,"
      ],
      "execution_count": 7,
      "outputs": [
        {
          "output_type": "execute_result",
          "data": {
            "text/plain": [
              "(array([0, 1, 2]), tensor([0, 1, 2]))"
            ]
          },
          "metadata": {
            "tags": []
          },
          "execution_count": 7
        }
      ]
    },
    {
      "cell_type": "code",
      "metadata": {
        "id": "AF6RAN6W1LYh"
      },
      "source": [
        ""
      ],
      "execution_count": 7,
      "outputs": []
    },
    {
      "cell_type": "code",
      "metadata": {
        "id": "cFaQXTmb5VP5"
      },
      "source": [
        ""
      ],
      "execution_count": 7,
      "outputs": []
    },
    {
      "cell_type": "markdown",
      "metadata": {
        "id": "V2404MIg5nCM"
      },
      "source": [
        "2.   Tensor math and comparision\r\n"
      ]
    },
    {
      "cell_type": "code",
      "metadata": {
        "colab": {
          "base_uri": "https://localhost:8080/"
        },
        "id": "mHeLZkDa51vp",
        "outputId": "53910501-4014-484b-c6d0-c020f2cf2333"
      },
      "source": [
        "x  = torch.tensor([1,2,3])\r\n",
        "y = torch.tensor([9, 8, 7])\r\n",
        "\r\n",
        "#add\r\n",
        "z = x + y \r\n",
        "z = torch.add(x,y)\r\n",
        "z = x.add(y)\r\n",
        "\r\n",
        "# subtraction\r\n",
        "z = x - y \r\n",
        "z = torch.subtract(x,y)\r\n",
        "z = x.subtract(y)\r\n",
        "\r\n",
        "# multiply\r\n",
        "z = x*y\r\n",
        "\r\n",
        "# divide\r\n",
        "z = torch.true_divide(x,y)\r\n",
        "\r\n",
        "#compare\r\n",
        "z = x < 0\r\n",
        "\r\n",
        "#inplace \r\n",
        "t = torch.zeros(3)\r\n",
        "t.add_(x) \r\n",
        "t += x # t = t+x is not inplace\r\n",
        "\r\n",
        "\r\n",
        "#power \r\n",
        "z = torch.pow(x, 2)\r\n",
        "z = x ** 2\r\n",
        "\r\n",
        "# special\r\n",
        "values, indexes = torch.max(x, dim=0)\r\n",
        "values, indexes = torch.min(x, dim=0)\r\n",
        "z = torch.abs(x)\r\n",
        "z = torch.mean(x.float(), dim=0)\r\n",
        "z = torch.clamp(x, min = 2, max = 2) # values less than 1 will be 1, larger than 5 will be 5\r\n",
        "z = torch.tensor([1,0,1,1,1,1], dtype = torch.bool).any() #true if there is any true in the tensor\r\n",
        "z = torch.tensor([1,0,1,1,1,1], dtype = torch.bool).all() #true if all values are true in the tensor\r\n",
        "print(z)"
      ],
      "execution_count": 8,
      "outputs": [
        {
          "output_type": "stream",
          "text": [
            "tensor(False)\n"
          ],
          "name": "stdout"
        }
      ]
    },
    {
      "cell_type": "code",
      "metadata": {
        "colab": {
          "base_uri": "https://localhost:8080/"
        },
        "id": "6Ql3e_h-7gwS",
        "outputId": "21085a52-faa9-43ae-c9c9-ac962572f485"
      },
      "source": [
        "\r\n",
        "#matrix multiplication\r\n",
        "x1 = torch.rand((2,4))\r\n",
        "x2 = torch.rand((4,3))\r\n",
        "z = torch.mm(x1, x2)\r\n",
        "z = x1.mm(x2)\r\n",
        "\r\n",
        "# batch matrix multiplication\r\n",
        "batch = 10\r\n",
        "n= 3\r\n",
        "m = 5\r\n",
        "p = 3\r\n",
        "x1 = torch.rand((batch, n, m))\r\n",
        "x2 = torch.rand((batch, m, p))\r\n",
        "z = torch.bmm(x1, x2) # (batch, n, p)\r\n",
        "\r\n",
        "#matrix exponentiation\r\n",
        "z = torch.rand(4,4)\r\n",
        "z.matrix_power(100)\r\n",
        "\r\n",
        "# dot product\r\n",
        "z = torch.dot(x,y)\r\n",
        "print(x*y)\r\n",
        "\r\n",
        "print(z)"
      ],
      "execution_count": 9,
      "outputs": [
        {
          "output_type": "stream",
          "text": [
            "tensor([ 9, 16, 21])\n",
            "tensor(46)\n"
          ],
          "name": "stdout"
        }
      ]
    },
    {
      "cell_type": "markdown",
      "metadata": {
        "id": "ss7LM_XBDZfN"
      },
      "source": [
        "3. Tensor indexing"
      ]
    },
    {
      "cell_type": "code",
      "metadata": {
        "id": "_XaZWl14DYGz",
        "colab": {
          "base_uri": "https://localhost:8080/"
        },
        "outputId": "9ce3c739-0192-4864-c240-a019661c6793"
      },
      "source": [
        "x = torch.rand((10, 25))\r\n",
        "print(x[0].shape, x[0,:].shape)\r\n",
        "print(x[2,0:24])\r\n",
        "print(x[[2,5,8],:]) # row index is a list\r\n",
        "print(x[[2,5,8],[1,2,3]]) # row index, column index is a list"
      ],
      "execution_count": 10,
      "outputs": [
        {
          "output_type": "stream",
          "text": [
            "torch.Size([25]) torch.Size([25])\n",
            "tensor([0.8452, 0.6110, 0.3383, 0.9151, 0.2701, 0.7589, 0.3199, 0.8626, 0.7213,\n",
            "        0.2712, 0.9179, 0.9953, 0.5664, 0.7839, 0.4330, 0.5027, 0.2608, 0.2470,\n",
            "        0.1939, 0.2913, 0.2046, 0.8587, 0.3754, 0.5088])\n",
            "tensor([[0.8452, 0.6110, 0.3383, 0.9151, 0.2701, 0.7589, 0.3199, 0.8626, 0.7213,\n",
            "         0.2712, 0.9179, 0.9953, 0.5664, 0.7839, 0.4330, 0.5027, 0.2608, 0.2470,\n",
            "         0.1939, 0.2913, 0.2046, 0.8587, 0.3754, 0.5088, 0.2124],\n",
            "        [0.2909, 0.6764, 0.1283, 0.3944, 0.2936, 0.1601, 0.5348, 0.6529, 0.3835,\n",
            "         0.9138, 0.4479, 0.6131, 0.7416, 0.0898, 0.7046, 0.0770, 0.0565, 0.7338,\n",
            "         0.1534, 0.4811, 0.3713, 0.2264, 0.4930, 0.3334, 0.3165],\n",
            "        [0.7848, 0.1856, 0.0207, 0.1551, 0.3179, 0.6025, 0.0915, 0.5630, 0.4094,\n",
            "         0.2206, 0.6937, 0.2291, 0.5651, 0.5992, 0.8317, 0.3768, 0.2959, 0.7047,\n",
            "         0.4806, 0.5921, 0.5086, 0.3289, 0.1013, 0.4629, 0.1199]])\n",
            "tensor([0.6110, 0.1283, 0.1551])\n"
          ],
          "name": "stdout"
        }
      ]
    },
    {
      "cell_type": "code",
      "metadata": {
        "colab": {
          "base_uri": "https://localhost:8080/"
        },
        "id": "SaUBkd4pJP3J",
        "outputId": "0c84b7c7-4a3b-4be8-8d8a-dd69b3e04d88"
      },
      "source": [
        "x = torch.rand((10,25))\r\n",
        "x[(x>0.2) & (x<0.5)]\r\n",
        "print(torch.where(x>0,1,0))\r\n",
        "x.unique()\r\n",
        "x.ndimension()\r\n",
        "x.numel() # how many number"
      ],
      "execution_count": 11,
      "outputs": [
        {
          "output_type": "stream",
          "text": [
            "tensor([[1, 1, 1, 1, 1, 1, 1, 1, 1, 1, 1, 1, 1, 1, 1, 1, 1, 1, 1, 1, 1, 1, 1, 1,\n",
            "         1],\n",
            "        [1, 1, 1, 1, 1, 1, 1, 1, 1, 1, 1, 1, 1, 1, 1, 1, 1, 1, 1, 1, 1, 1, 1, 1,\n",
            "         1],\n",
            "        [1, 1, 1, 1, 1, 1, 1, 1, 1, 1, 1, 1, 1, 1, 1, 1, 1, 1, 1, 1, 1, 1, 1, 1,\n",
            "         1],\n",
            "        [1, 1, 1, 1, 1, 1, 1, 1, 1, 1, 1, 1, 1, 1, 1, 1, 1, 1, 1, 1, 1, 1, 1, 1,\n",
            "         1],\n",
            "        [1, 1, 1, 1, 1, 1, 1, 1, 1, 1, 1, 1, 1, 1, 1, 1, 1, 1, 1, 1, 1, 1, 1, 1,\n",
            "         1],\n",
            "        [1, 1, 1, 1, 1, 1, 1, 1, 1, 1, 1, 1, 1, 1, 1, 1, 1, 1, 1, 1, 1, 1, 1, 1,\n",
            "         1],\n",
            "        [1, 1, 1, 1, 1, 1, 1, 1, 1, 1, 1, 1, 1, 1, 1, 1, 1, 1, 1, 1, 1, 1, 1, 1,\n",
            "         1],\n",
            "        [1, 1, 1, 1, 1, 1, 1, 1, 1, 1, 1, 1, 1, 1, 1, 1, 1, 1, 1, 1, 1, 1, 1, 1,\n",
            "         1],\n",
            "        [1, 1, 1, 1, 1, 1, 1, 1, 1, 1, 1, 1, 1, 1, 1, 1, 1, 1, 1, 1, 1, 1, 1, 1,\n",
            "         1],\n",
            "        [1, 1, 1, 1, 1, 1, 1, 1, 1, 1, 1, 1, 1, 1, 1, 1, 1, 1, 1, 1, 1, 1, 1, 1,\n",
            "         1]])\n"
          ],
          "name": "stdout"
        },
        {
          "output_type": "execute_result",
          "data": {
            "text/plain": [
              "250"
            ]
          },
          "metadata": {
            "tags": []
          },
          "execution_count": 11
        }
      ]
    },
    {
      "cell_type": "markdown",
      "metadata": {
        "id": "cr9bwJjZLacz"
      },
      "source": [
        "4.   Reshape"
      ]
    },
    {
      "cell_type": "code",
      "metadata": {
        "colab": {
          "base_uri": "https://localhost:8080/"
        },
        "id": "3n4drNxvJ7GG",
        "outputId": "a1a22ba3-0449-43bc-96b8-e8998762ce09"
      },
      "source": [
        "x = torch.arange(9)\r\n",
        "print(x.view(3,3))\r\n",
        "print(x.reshape(3,3))\r\n",
        "y = x.view(3,3).t()\r\n",
        "print(y.contiguous().view(9)) # need contiguous() before view() "
      ],
      "execution_count": 12,
      "outputs": [
        {
          "output_type": "stream",
          "text": [
            "tensor([[0, 1, 2],\n",
            "        [3, 4, 5],\n",
            "        [6, 7, 8]])\n",
            "tensor([[0, 1, 2],\n",
            "        [3, 4, 5],\n",
            "        [6, 7, 8]])\n",
            "tensor([0, 3, 6, 1, 4, 7, 2, 5, 8])\n"
          ],
          "name": "stdout"
        }
      ]
    },
    {
      "cell_type": "code",
      "metadata": {
        "colab": {
          "base_uri": "https://localhost:8080/"
        },
        "id": "Szk2FdMuMpfx",
        "outputId": "0c3a4725-e19a-4c0c-83a9-f4c5f1e98869"
      },
      "source": [
        "x1 = torch.arange(9)\r\n",
        "print(x1.view(-1))\r\n",
        "print(x1.unsqueeze(0).shape) #add 1 dimension in front\r\n",
        "print(x1.unsqueeze(1).shape) #add 1 dimension in back\r\n",
        "print(x1.unsqueeze(0).unsqueeze(0).shape) # (1,1,9)\r\n",
        "print(x1.unsqueeze(0).unsqueeze(0).squeeze(0).shape) # (1,9)\r\n",
        "x = torch.rand((10, 2, 4))\r\n",
        "print(x.view(batch, -1).shape) #10, 8, all the remanining shape will be flattern\r\n",
        "\r\n",
        "print(x.permute(0,2,1).shape) # rearrange column of x --> 10, 4, 2"
      ],
      "execution_count": 21,
      "outputs": [
        {
          "output_type": "stream",
          "text": [
            "tensor([0, 1, 2, 3, 4, 5, 6, 7, 8])\n",
            "torch.Size([1, 9])\n",
            "torch.Size([9, 1])\n",
            "torch.Size([1, 1, 9])\n",
            "torch.Size([1, 9])\n",
            "torch.Size([10, 8])\n",
            "torch.Size([10, 4, 2])\n"
          ],
          "name": "stdout"
        }
      ]
    },
    {
      "cell_type": "code",
      "metadata": {
        "id": "QXMmy_eZjuag"
      },
      "source": [
        ""
      ],
      "execution_count": null,
      "outputs": []
    }
  ]
}